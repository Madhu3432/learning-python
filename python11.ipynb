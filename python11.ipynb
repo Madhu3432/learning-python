{
 "cells": [
  {
   "cell_type": "code",
   "execution_count": null,
   "metadata": {},
   "outputs": [],
   "source": []
  },
  {
   "cell_type": "code",
   "execution_count": 1,
   "metadata": {},
   "outputs": [
    {
     "name": "stdout",
     "output_type": "stream",
     "text": [
      "Prime numbers less than 20:\n",
      "2\n",
      "3\n",
      "5\n",
      "7\n",
      "11\n",
      "13\n",
      "17\n",
      "19\n"
     ]
    }
   ],
   "source": [
    "def is_prime(num):\n",
    "    if num < 2:\n",
    "        return False\n",
    "    for i in range(2, int(num**0.5) + 1):\n",
    "        if num % i == 0:\n",
    "            return False\n",
    "    return True\n",
    "\n",
    "# Print prime numbers less than 20\n",
    "print(\"Prime numbers less than 20:\")\n",
    "for number in range(2, 20):\n",
    "    if is_prime(number):\n",
    "        print(number)\n"
   ]
  },
  {
   "cell_type": "code",
   "execution_count": 2,
   "metadata": {},
   "outputs": [
    {
     "name": "stdout",
     "output_type": "stream",
     "text": [
      "The factorial of 4 is: 24\n"
     ]
    }
   ],
   "source": [
    "def factorial(n):\n",
    "    if n == 0 or n == 1:\n",
    "        return 1\n",
    "    else:\n",
    "        return n * factorial(n - 1)\n",
    "\n",
    "# Input the number\n",
    "number = int(input(\"Enter a number to find its factorial: \"))\n",
    "\n",
    "# Check for non-negative input\n",
    "if number < 0:\n",
    "    print(\"Factorial is not defined for negative numbers.\")\n",
    "else:\n",
    "    result = factorial(number)\n",
    "    print(f\"The factorial of {number} is: {result}\")\n"
   ]
  },
  {
   "cell_type": "code",
   "execution_count": 3,
   "metadata": {},
   "outputs": [
    {
     "name": "stdout",
     "output_type": "stream",
     "text": [
      "It's a right triangle.\n"
     ]
    }
   ],
   "source": [
    "def is_right_triangle(side1, side2, side3):\n",
    "    # Sort the sides in ascending order\n",
    "    sides = [side1, side2, side3]\n",
    "    sides.sort()\n",
    "\n",
    "    # Check the Pythagorean theorem\n",
    "    if sides[0]**2 + sides[1]**2 == sides[2]**2:\n",
    "        return True\n",
    "    else:\n",
    "        return False\n",
    "\n",
    "# Input lengths of the sides\n",
    "side_a = float(input(\"Enter the length of side a: \"))\n",
    "side_b = float(input(\"Enter the length of side b: \"))\n",
    "side_c = float(input(\"Enter the length of side c: \"))\n",
    "\n",
    "# Check if it's a right triangle\n",
    "if is_right_triangle(side_a, side_b, side_c):\n",
    "    print(\"It's a right triangle.\")\n",
    "else:\n",
    "    print(\"It's not a right triangle.\")\n"
   ]
  },
  {
   "cell_type": "code",
   "execution_count": 4,
   "metadata": {},
   "outputs": [
    {
     "name": "stdout",
     "output_type": "stream",
     "text": [
      "A triangle with sides 3, 4, and 5 forms a right triangle.\n"
     ]
    }
   ],
   "source": [
    "# Example of a right-angled triangle\n",
    "side1 = 3\n",
    "side2 = 4\n",
    "side3 = 5\n",
    "\n",
    "# Check if it's a right triangle\n",
    "if side1**2 + side2**2 == side3**2:\n",
    "    print(f\"A triangle with sides {side1}, {side2}, and {side3} forms a right triangle.\")\n",
    "else:\n",
    "    print(f\"A triangle with sides {side1}, {side2}, and {side3} does not form a right triangle.\")\n"
   ]
  },
  {
   "cell_type": "code",
   "execution_count": 5,
   "metadata": {},
   "outputs": [
    {
     "name": "stdout",
     "output_type": "stream",
     "text": [
      "File not found. Please enter valid file names.\n"
     ]
    }
   ],
   "source": [
    "# copyfile.py\n",
    "\n",
    "def copy_file_content(source_file, destination_file):\n",
    "    try:\n",
    "        with open(source_file, 'r') as source:\n",
    "            content = source.read()\n",
    "\n",
    "        with open(destination_file, 'w') as destination:\n",
    "            destination.write(content)\n",
    "\n",
    "        print(f\"Contents from '{source_file}' copied to '{destination_file}' successfully.\")\n",
    "    except FileNotFoundError:\n",
    "        print(\"File not found. Please enter valid file names.\")\n",
    "\n",
    "# Prompt the user for file names\n",
    "source_file_name = input(\"Enter the name of the source text file: \")\n",
    "destination_file_name = input(\"Enter the name of the destination text file: \")\n",
    "\n",
    "# Copy the contents of the first file to the second file\n",
    "copy_file_content(source_file_name, destination_file_name)\n"
   ]
  },
  {
   "cell_type": "code",
   "execution_count": 6,
   "metadata": {},
   "outputs": [
    {
     "name": "stdout",
     "output_type": "stream",
     "text": [
      "File not found. Please enter a valid file name.\n"
     ]
    }
   ],
   "source": [
    "def get_unique_words(file_name):\n",
    "    unique_words = set()\n",
    "\n",
    "    try:\n",
    "        with open(file_name, 'r') as file:\n",
    "            for line in file:\n",
    "                words = line.split()\n",
    "                unique_words.update(words)\n",
    "\n",
    "        return sorted(unique_words)\n",
    "    except FileNotFoundError:\n",
    "        print(\"File not found. Please enter a valid file name.\")\n",
    "        return None\n",
    "\n",
    "# Prompt the user for the file name\n",
    "file_name = input(\"Enter the name of the text file: \")\n",
    "\n",
    "# Get and print unique words in alphabetical order\n",
    "unique_words = get_unique_words(file_name)\n",
    "\n",
    "if unique_words:\n",
    "    print(\"Unique words in alphabetical order:\")\n",
    "    for word in unique_words:\n",
    "        print(word)\n"
   ]
  },
  {
   "cell_type": "code",
   "execution_count": 7,
   "metadata": {},
   "outputs": [
    {
     "name": "stdout",
     "output_type": "stream",
     "text": [
      "354 in Roman numerals: CCCLIV\n",
      "1998 in Roman numerals: MCMXCVIII\n"
     ]
    }
   ],
   "source": [
    "class IntegerToRoman:\n",
    "    def __init__(self):\n",
    "        self.integer_to_roman_dict = {\n",
    "            1000: 'M',\n",
    "            900: 'CM',\n",
    "            500: 'D',\n",
    "            400: 'CD',\n",
    "            100: 'C',\n",
    "            90: 'XC',\n",
    "            50: 'L',\n",
    "            40: 'XL',\n",
    "            10: 'X',\n",
    "            9: 'IX',\n",
    "            5: 'V',\n",
    "            4: 'IV',\n",
    "            1: 'I'\n",
    "        }\n",
    "\n",
    "    def convert_to_roman(self, num):\n",
    "        if not isinstance(num, int) or not 0 < num < 4000:\n",
    "            raise ValueError(\"Input must be an integer between 1 and 3999.\")\n",
    "\n",
    "        result = ''\n",
    "        for value, roman in sorted(self.integer_to_roman_dict.items(), reverse=True):\n",
    "            while num >= value:\n",
    "                result += roman\n",
    "                num -= value\n",
    "\n",
    "        return result\n",
    "\n",
    "# Example usage:\n",
    "try:\n",
    "    # Create an instance of the IntegerToRoman class\n",
    "    converter = IntegerToRoman()\n",
    "\n",
    "    # Test with different integers\n",
    "    number1 = 354\n",
    "    number2 = 1998\n",
    "\n",
    "    # Convert and print Roman numerals\n",
    "    print(f\"{number1} in Roman numerals: {converter.convert_to_roman(number1)}\")\n",
    "    print(f\"{number2} in Roman numerals: {converter.convert_to_roman(number2)}\")\n",
    "\n",
    "except ValueError as e:\n",
    "    print(f\"Error: {e}\")\n"
   ]
  },
  {
   "cell_type": "code",
   "execution_count": 8,
   "metadata": {},
   "outputs": [
    {
     "name": "stdout",
     "output_type": "stream",
     "text": [
      "2 to the power of 5 is: 32\n"
     ]
    }
   ],
   "source": [
    "class PowerCalculator:\n",
    "    def my_pow(self, x, n):\n",
    "        if not isinstance(n, int):\n",
    "            raise ValueError(\"Exponent must be an integer.\")\n",
    "        \n",
    "        if n < 0:\n",
    "            x = 1 / x\n",
    "            n = -n\n",
    "\n",
    "        result = 1\n",
    "        for _ in range(n):\n",
    "            result *= x\n",
    "\n",
    "        return result\n",
    "\n",
    "# Example usage:\n",
    "try:\n",
    "    # Create an instance of the PowerCalculator class\n",
    "    calculator = PowerCalculator()\n",
    "\n",
    "    # Test with different values\n",
    "    base = 2\n",
    "    exponent = 5\n",
    "\n",
    "    # Calculate and print the result\n",
    "    print(f\"{base} to the power of {exponent} is: {calculator.my_pow(base, exponent)}\")\n",
    "\n",
    "except ValueError as e:\n",
    "    print(f\"Error: {e}\")\n"
   ]
  },
  {
   "cell_type": "code",
   "execution_count": null,
   "metadata": {},
   "outputs": [],
   "source": [
    "class StringReverser:\n",
    "    def reverse_words(self, input_str):\n",
    "        words = input_str.split()\n",
    "        reversed_words = ' '.join(reversed(words))\n",
    "        return reversed_words\n",
    "\n",
    "# Example usage:\n",
    "try:\n",
    "    # Create an instance of the StringReverser class\n",
    "    reverser = StringReverser()\n",
    "\n",
    "    # Test with a sample string\n",
    "    input_string = \"Hello World! Python is awesome.\"\n",
    "\n",
    "    # Reverse and print the string word by word\n",
    "    reversed_string = reverser.reverse_words(input_string)\n",
    "    print(f\"Original String: {input_string}\")\n",
    "    print(f\"Reversed String: {reversed_string}\")\n",
    "\n",
    "except ValueError as e:\n",
    "    print(f\"Error: {e}\")\n"
   ]
  }
 ],
 "metadata": {
  "kernelspec": {
   "display_name": "Python 3",
   "language": "python",
   "name": "python3"
  },
  "language_info": {
   "codemirror_mode": {
    "name": "ipython",
    "version": 3
   },
   "file_extension": ".py",
   "mimetype": "text/x-python",
   "name": "python",
   "nbconvert_exporter": "python",
   "pygments_lexer": "ipython3",
   "version": "3.11.4"
  }
 },
 "nbformat": 4,
 "nbformat_minor": 2
}
