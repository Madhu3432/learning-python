{
 "cells": [
  {
   "cell_type": "code",
   "execution_count": 1,
   "metadata": {},
   "outputs": [
    {
     "name": "stdout",
     "output_type": "stream",
     "text": [
      "Integer: 42\n",
      "Float: 3.14\n",
      "Complex: (2+3j)\n",
      "Sum: 13\n",
      "Difference: 7\n",
      "Product: 30\n",
      "Division: 3.3333333333333335\n",
      "Modulus: 1\n",
      "Exponential: 1000\n"
     ]
    }
   ],
   "source": [
    "# Integer\n",
    "integer_num = 42\n",
    "print(\"Integer:\", integer_num)\n",
    "\n",
    "# Float\n",
    "float_num = 3.14\n",
    "print(\"Float:\", float_num)\n",
    "\n",
    "# Complex\n",
    "complex_num = 2 + 3j\n",
    "print(\"Complex:\", complex_num)\n",
    "\n",
    "# Operations\n",
    "a = 10\n",
    "b = 3\n",
    "\n",
    "# Addition\n",
    "sum_result = a + b\n",
    "print(\"Sum:\", sum_result)\n",
    "\n",
    "# Subtraction\n",
    "difference_result = a - b\n",
    "print(\"Difference:\", difference_result)\n",
    "\n",
    "# Multiplication\n",
    "product_result = a * b\n",
    "print(\"Product:\", product_result)\n",
    "\n",
    "# Division\n",
    "division_result = a / b\n",
    "print(\"Division:\", division_result)\n",
    "\n",
    "# Modulus (remainder)\n",
    "modulus_result = a % b\n",
    "print(\"Modulus:\", modulus_result)\n",
    "\n",
    "# Exponentiation\n",
    "exponential_result = a ** b\n",
    "print(\"Exponential:\", exponential_result)\n"
   ]
  },
  {
   "cell_type": "code",
   "execution_count": 3,
   "metadata": {},
   "outputs": [
    {
     "name": "stdout",
     "output_type": "stream",
     "text": [
      "Sum: 15.0 + 20.0 = 35.0\n",
      "Difference: 15.0 - 20.0 = -5.0\n",
      "Product: 15.0 * 20.0 = 300.0\n",
      "Division: 15.0 / 20.0 = 0.75\n",
      "Modulus: 15.0 % 20.0 = 15.0\n",
      "Exponential: 15.0 ** 20.0 = 3.3252567300796506e+23\n"
     ]
    }
   ],
   "source": [
    "# Input numbers\n",
    "num1 = float(input(\"Enter the first number: \"))\n",
    "num2 = float(input(\"Enter the second number: \"))\n",
    "\n",
    "# Addition\n",
    "sum_result = num1 + num2\n",
    "print(f\"Sum: {num1} + {num2} = {sum_result}\")\n",
    "\n",
    "# Subtraction\n",
    "difference_result = num1 - num2\n",
    "print(f\"Difference: {num1} - {num2} = {difference_result}\")\n",
    "\n",
    "# Multiplication\n",
    "product_result = num1 * num2\n",
    "print(f\"Product: {num1} * {num2} = {product_result}\")\n",
    "\n",
    "# Division\n",
    "if num2 != 0:\n",
    "    division_result = num1 / num2\n",
    "    print(f\"Division: {num1} / {num2} = {division_result}\")\n",
    "else:\n",
    "    print(\"Division by zero is undefined.\")\n",
    "\n",
    "# Modulus (remainder)\n",
    "if num2 != 0:\n",
    "    modulus_result = num1 % num2\n",
    "    print(f\"Modulus: {num1} % {num2} = {modulus_result}\")\n",
    "else:\n",
    "    print(\"Modulus by zero is undefined.\")\n",
    "\n",
    "# Exponentiation\n",
    "exponential_result = num1 ** num2\n",
    "print(f\"Exponential: {num1} ** {num2} = {exponential_result}\")\n"
   ]
  },
  {
   "cell_type": "code",
   "execution_count": 4,
   "metadata": {},
   "outputs": [
    {
     "name": "stdout",
     "output_type": "stream",
     "text": [
      "Concatenated String: Hello, World!\n",
      "Substring: World\n"
     ]
    }
   ],
   "source": [
    "# Create a string\n",
    "str1 = \"Hello, \"\n",
    "\n",
    "# Concatenate strings\n",
    "str2 = \"World!\"\n",
    "concatenated_str = str1 + str2\n",
    "\n",
    "# Print the concatenated string\n",
    "print(\"Concatenated String:\", concatenated_str)\n",
    "\n",
    "# Access substring\n",
    "substring = concatenated_str[7:12]  # Extracts characters from index 7 to 11\n",
    "print(\"Substring:\", substring)\n"
   ]
  },
  {
   "cell_type": "code",
   "execution_count": 5,
   "metadata": {},
   "outputs": [
    {
     "name": "stdout",
     "output_type": "stream",
     "text": [
      "Current Date: Tue Nov 14 15:20:20 IST 2023\n"
     ]
    }
   ],
   "source": [
    "from datetime import datetime\n",
    "import pytz  # This module is used to handle time zones\n",
    "\n",
    "# Get the current time in UTC\n",
    "current_time_utc = datetime.utcnow()\n",
    "\n",
    "# Define the Indian Standard Time (IST) timezone\n",
    "ist = pytz.timezone('Asia/Kolkata')\n",
    "\n",
    "# Convert UTC time to IST\n",
    "current_time_ist = current_time_utc.replace(tzinfo=pytz.utc).astimezone(ist)\n",
    "\n",
    "# Format the date as per the specified format\n",
    "formatted_date = current_time_ist.strftime(\"%a %b %d %H:%M:%S %Z %Y\")\n",
    "\n",
    "# Print the formatted date\n",
    "print(\"Current Date:\", formatted_date)\n"
   ]
  },
  {
   "cell_type": "code",
   "execution_count": 8,
   "metadata": {},
   "outputs": [
    {
     "name": "stdout",
     "output_type": "stream",
     "text": [
      "Initial List: [1, 2, 3, 4, 5]\n",
      "After Appending 6: [1, 2, 3, 4, 5, 6]\n",
      "After Appending 7, 8, 9: [1, 2, 3, 4, 5, 6, 7, 8, 9]\n",
      "After Removing 3: [1, 2, 4, 5, 6, 7, 8, 9]\n",
      "Removed Element at Index 1: 2, Updated List: [1, 4, 5, 6, 7, 8, 9]\n",
      "After Clearing the List: []\n"
     ]
    }
   ],
   "source": [
    "# Create a list\n",
    "my_list = [1, 2, 3, 4, 5]\n",
    "print(\"Initial List:\", my_list)\n",
    "\n",
    "# Append an element to the list\n",
    "my_list.append(6)\n",
    "print(\"After Appending 6:\", my_list)\n",
    "\n",
    "# Append multiple elements to the list\n",
    "my_list.extend([7, 8, 9])\n",
    "print(\"After Appending 7, 8, 9:\", my_list)\n",
    "\n",
    "# Remove an element by value\n",
    "my_list.remove(3)\n",
    "print(\"After Removing 3:\", my_list)\n",
    "\n",
    "# Remove an element by index\n",
    "removed_element = my_list.pop(1)\n",
    "print(f\"Removed Element at Index 1: {removed_element}, Updated List: {my_list}\")\n",
    "\n",
    "# Clear all elements from the list\n",
    "my_list.clear()\n",
    "print(\"After Clearing the List:\", my_list)\n",
    "\n"
   ]
  },
  {
   "cell_type": "code",
   "execution_count": 10,
   "metadata": {},
   "outputs": [
    {
     "name": "stdout",
     "output_type": "stream",
     "text": [
      "Initial Tuple: (1, 2, 3, 4, 5)\n",
      "First Element: 1, Last Element: 5\n",
      "Sliced Tuple: (2, 3, 4)\n",
      "Concatenated Tuple: (1, 2, 3, 4, 5, 6)\n",
      "Repeated Tuple: (1, 2, 3, 1, 2, 3, 1, 2, 3)\n",
      "Unpacked Tuple: a=1, b=2, c=3\n"
     ]
    },
    {
     "data": {
      "text/plain": [
       "<module 'xml.etree.cElementTree' from 'c:\\\\Users\\\\91949\\\\AppData\\\\Local\\\\Programs\\\\Python\\\\Python311\\\\Lib\\\\xml\\\\etree\\\\cElementTree.py'>"
      ]
     },
     "execution_count": 10,
     "metadata": {},
     "output_type": "execute_result"
    }
   ],
   "source": [
    "# Create a tuple\n",
    "from xml.etree import cElementTree\n",
    "\n",
    "\n",
    "my_tuple = (1, 2, 3, 4, 5)\n",
    "print(\"Initial Tuple:\", my_tuple)\n",
    "\n",
    "# Access elements in a tuple\n",
    "first_element = my_tuple[0]\n",
    "last_element = my_tuple[-1]\n",
    "print(f\"First Element: {first_element}, Last Element: {last_element}\")\n",
    "\n",
    "# Slicing a tuple\n",
    "sliced_tuple = my_tuple[1:4]\n",
    "print(\"Sliced Tuple:\", sliced_tuple)\n",
    "\n",
    "# Concatenate tuples\n",
    "tuple1 = (1, 2, 3)\n",
    "tuple2 = (4, 5, 6)\n",
    "concatenated_tuple = tuple1 + tuple2\n",
    "print(\"Concatenated Tuple:\", concatenated_tuple)\n",
    "\n",
    "# Repeat a tuple\n",
    "repeated_tuple = tuple1 * 3\n",
    "print(\"Repeated Tuple:\", repeated_tuple)\n",
    "\n",
    "# Unpack a tuple\n",
    "a, b, c = tuple1\n",
    "print(f\"Unpacked Tuple: a={a}, b={b}, c={c}\")\n",
    "\n",
    "# Check if an element is in a tuple\n",
    "cElementTree\n"
   ]
  },
  {
   "cell_type": "code",
   "execution_count": 11,
   "metadata": {},
   "outputs": [
    {
     "name": "stdout",
     "output_type": "stream",
     "text": [
      "Initial Dictionary: {'name': 'John', 'age': 25, 'city': 'New York'}\n",
      "Name: John, Age: 25\n",
      "Updated Dictionary: {'name': 'John', 'age': 26, 'city': 'New York'}\n",
      "Dictionary after Adding Occupation: {'name': 'John', 'age': 26, 'city': 'New York', 'occupation': 'Engineer'}\n",
      "Removed City: New York, Updated Dictionary: {'name': 'John', 'age': 26, 'occupation': 'Engineer'}\n",
      "Is 'name' present in the dictionary? True\n",
      "Keys: dict_keys(['name', 'age', 'occupation'])\n",
      "Values: dict_values(['John', 26, 'Engineer'])\n",
      "Items: dict_items([('name', 'John'), ('age', 26), ('occupation', 'Engineer')])\n",
      "Iterating over keys and values:\n",
      "name: John\n",
      "age: 26\n",
      "occupation: Engineer\n"
     ]
    }
   ],
   "source": [
    "# Create a dictionary\n",
    "my_dict = {\"name\": \"John\", \"age\": 25, \"city\": \"New York\"}\n",
    "print(\"Initial Dictionary:\", my_dict)\n",
    "\n",
    "# Access values in a dictionary\n",
    "name = my_dict[\"name\"]\n",
    "age = my_dict[\"age\"]\n",
    "print(f\"Name: {name}, Age: {age}\")\n",
    "\n",
    "# Modify a value in the dictionary\n",
    "my_dict[\"age\"] = 26\n",
    "print(\"Updated Dictionary:\", my_dict)\n",
    "\n",
    "# Add a new key-value pair\n",
    "my_dict[\"occupation\"] = \"Engineer\"\n",
    "print(\"Dictionary after Adding Occupation:\", my_dict)\n",
    "\n",
    "# Remove a key-value pair\n",
    "removed_value = my_dict.pop(\"city\")\n",
    "print(f\"Removed City: {removed_value}, Updated Dictionary: {my_dict}\")\n",
    "\n",
    "# Check if a key is in the dictionary\n",
    "is_name_present = \"name\" in my_dict\n",
    "print(f\"Is 'name' present in the dictionary? {is_name_present}\")\n",
    "\n",
    "# Get keys, values, and items from a dictionary\n",
    "keys = my_dict.keys()\n",
    "values = my_dict.values()\n",
    "items = my_dict.items()\n",
    "\n",
    "print(\"Keys:\", keys)\n",
    "print(\"Values:\", values)\n",
    "print(\"Items:\", items)\n",
    "\n",
    "# Iterate over keys and values\n",
    "print(\"Iterating over keys and values:\")\n",
    "for key, value in my_dict.items():\n",
    "    print(f\"{key}: {value}\")\n"
   ]
  },
  {
   "cell_type": "code",
   "execution_count": 12,
   "metadata": {},
   "outputs": [
    {
     "name": "stdout",
     "output_type": "stream",
     "text": [
      "The largest number is: 55.0\n"
     ]
    }
   ],
   "source": [
    "# Function to find the largest of three numbers\n",
    "def find_largest(num1, num2, num3):\n",
    "    if num1 >= num2 and num1 >= num3:\n",
    "        return num1\n",
    "    elif num2 >= num1 and num2 >= num3:\n",
    "        return num2\n",
    "    else:\n",
    "        return num3\n",
    "\n",
    "# Input three numbers\n",
    "num1 = float(input(\"Enter the first number: \"))\n",
    "num2 = float(input(\"Enter the second number: \"))\n",
    "num3 = float(input(\"Enter the third number: \"))\n",
    "\n",
    "# Find and print the largest number\n",
    "largest_number = find_largest(num1, num2, num3)\n",
    "print(\"The largest number is:\", largest_number)\n"
   ]
  },
  {
   "cell_type": "code",
   "execution_count": 13,
   "metadata": {},
   "outputs": [
    {
     "name": "stdout",
     "output_type": "stream",
     "text": [
      "55.2 Celsius is equal to 131.36 Fahrenheit\n",
      "55.0 Fahrenheit is equal to 12.78 Celsius\n"
     ]
    }
   ],
   "source": [
    "def celsius_to_fahrenheit(celsius):\n",
    "    return (celsius * 9/5) + 32\n",
    "\n",
    "def fahrenheit_to_celsius(fahrenheit):\n",
    "    return (fahrenheit - 32) * 5/9\n",
    "\n",
    "# Convert Celsius to Fahrenheit\n",
    "celsius_temperature = float(input(\"Enter temperature in Celsius: \"))\n",
    "fahrenheit_result = celsius_to_fahrenheit(celsius_temperature)\n",
    "print(f\"{celsius_temperature} Celsius is equal to {fahrenheit_result:.2f} Fahrenheit\")\n",
    "\n",
    "# Convert Fahrenheit to Celsius\n",
    "fahrenheit_temperature = float(input(\"Enter temperature in Fahrenheit: \"))\n",
    "celsius_result = fahrenheit_to_celsius(fahrenheit_temperature)\n",
    "print(f\"{fahrenheit_temperature} Fahrenheit is equal to {celsius_result:.2f} Celsius\")\n"
   ]
  },
  {
   "cell_type": "code",
   "execution_count": 15,
   "metadata": {},
   "outputs": [
    {
     "name": "stdout",
     "output_type": "stream",
     "text": [
      "* \n",
      "* * \n",
      "* * * \n",
      "* * * * \n",
      "* * * * * \n",
      "* * * * * * \n",
      "* * * * * * * \n",
      "* * * * * * * * \n",
      "* * * * * * * * * \n",
      "* * * * * * * * * * \n",
      "* * * * * * * * * * * \n",
      "* * * * * * * * * * * * \n",
      "* * * * * * * * * * * * * \n",
      "* * * * * * * * * * * * * * \n",
      "* * * * * * * * * * * * * * * \n"
     ]
    }
   ],
   "source": [
    "# Function to print stars pattern\n",
    "def print_stars_pattern(rows):\n",
    "    for i in range(1, rows + 1):\n",
    "        for j in range(1, i + 1):\n",
    "            print(\"*\", end=\" \")\n",
    "        print()\n",
    "\n",
    "# Input the number of rows for the pattern\n",
    "num_rows = int(input(\"Enter the number of rows for the stars pattern: \"))\n",
    "\n",
    "# Call the function to print the stars pattern\n",
    "print_stars_pattern(num_rows)\n"
   ]
  },
  {
   "cell_type": "code",
   "execution_count": null,
   "metadata": {},
   "outputs": [],
   "source": []
  }
 ],
 "metadata": {
  "kernelspec": {
   "display_name": "Python 3",
   "language": "python",
   "name": "python3"
  },
  "language_info": {
   "codemirror_mode": {
    "name": "ipython",
    "version": 3
   },
   "file_extension": ".py",
   "mimetype": "text/x-python",
   "name": "python",
   "nbconvert_exporter": "python",
   "pygments_lexer": "ipython3",
   "version": "3.11.4"
  }
 },
 "nbformat": 4,
 "nbformat_minor": 2
}
